{
 "cells": [
  {
   "cell_type": "markdown",
   "metadata": {},
   "source": [
    "# UAV arm #"
   ]
  },
  {
   "cell_type": "markdown",
   "metadata": {},
   "source": [
    "This script defines robot\n",
    "1. DH parameter (**ongoing, check diagram, axes, dh parameters**)\n",
    "2. Transformation Matrix (**ongoing**)\n",
    "3. Forward kinematics (**ongoing**)\n",
    "4. Jacobian (**ongoing**)\n",
    "4. Singularity analysis (**ongoing**)"
   ]
  },
  {
   "cell_type": "code",
   "execution_count": 179,
   "metadata": {},
   "outputs": [],
   "source": [
    "import numpy as np\n",
    "import sympy\n",
    "sympy.init_printing(use_unicode=True)"
   ]
  },
  {
   "cell_type": "markdown",
   "metadata": {},
   "source": [
    "# Define a robot parameters"
   ]
  },
  {
   "cell_type": "code",
   "execution_count": 180,
   "metadata": {},
   "outputs": [],
   "source": [
    "# apply link lengths\n",
    "l_3 = 1\n",
    "l_4 = 1\n",
    "l_5 = 1\n",
    "l_6 = 1"
   ]
  },
  {
   "cell_type": "markdown",
   "metadata": {},
   "source": [
    "## 1. DH parameters"
   ]
  },
  {
   "cell_type": "markdown",
   "metadata": {},
   "source": [
    "DH parameters are obtained using modified DH convention (*ith joint defined by ith coordinate*)\n",
    "\n",
    "**NOTE:**\n",
    "1. Check axes selection\n",
    "2. To change the body diagram image, change svg file in images folder. I used inkspace to draw\n",
    "3. For modified DH_convention (and it's difference from classic one), refer to ***DH_convention.pdf***\n",
    "4. Solve later: convert the T0_6 to  the quaternion representation. In the end, the equation should be: *x, y, z, q1, q2, q3, q4*"
   ]
  },
  {
   "cell_type": "markdown",
   "metadata": {},
   "source": [
    "![title](images/for_kin_body_diagram_3.svg)"
   ]
  },
  {
   "cell_type": "code",
   "execution_count": 181,
   "metadata": {},
   "outputs": [],
   "source": [
    "# dh parameters\n",
    "theta_2, theta_3, theta_4, theta_5, theta_6 = sympy.symbols(['theta_2', 'theta_3', 'theta_4', 'theta_5', 'theta_6'])\n",
    "d_1 = sympy.Symbol('d_1')\n",
    "\n",
    "\n",
    "thetas = [0, theta_2, theta_3, theta_4, theta_5, theta_6]\n",
    "d = [d_1, 0, l_3, 0, 0, l_6]\n",
    "r = [0, 0, 0, l_4, l_5, 0]\n",
    "alphas = [-sympy.pi/2, -sympy.pi/2, -sympy.pi/2, 0, 0, sympy.pi/2]"
   ]
  },
  {
   "cell_type": "markdown",
   "metadata": {},
   "source": [
    "Confirm table values"
   ]
  },
  {
   "cell_type": "code",
   "execution_count": 182,
   "metadata": {},
   "outputs": [
    {
     "data": {
      "image/png": "[encoded data removed]",
      "text/latex": [
       "$$\\left [ 0, \\quad \\theta_{2}, \\quad \\theta_{3}, \\quad \\theta_{4}, \\quad \\theta_{5}, \\quad \\theta_{6}\\right ]$$"
      ],
      "text/plain": [
       "[0, θ₂, θ₃, θ₄, θ₅, θ₆]"
      ]
     },
     "execution_count": 182,
     "metadata": {},
     "output_type": "execute_result"
    }
   ],
   "source": [
    "thetas"
   ]
  },
  {
   "cell_type": "code",
   "execution_count": 183,
   "metadata": {},
   "outputs": [
    {
     "data": {
      "image/png": "[encoded data removed]",
      "text/latex": [
       "$$\\left [ d_{1}, \\quad 0, \\quad 1, \\quad 0, \\quad 0, \\quad 1\\right ]$$"
      ],
      "text/plain": [
       "[d₁, 0, 1, 0, 0, 1]"
      ]
     },
     "execution_count": 183,
     "metadata": {},
     "output_type": "execute_result"
    }
   ],
   "source": [
    "d"
   ]
  },
  {
   "cell_type": "code",
   "execution_count": 184,
   "metadata": {},
   "outputs": [
    {
     "data": {
      "image/png": "[encoded data removed]",
      "text/latex": [
       "$$\\left [ 0, \\quad 0, \\quad 0, \\quad 1, \\quad 1, \\quad 0\\right ]$$"
      ],
      "text/plain": [
       "[0, 0, 0, 1, 1, 0]"
      ]
     },
     "execution_count": 184,
     "metadata": {},
     "output_type": "execute_result"
    }
   ],
   "source": [
    "r"
   ]
  },
  {
   "cell_type": "code",
   "execution_count": 185,
   "metadata": {},
   "outputs": [
    {
     "data": {
      "image/png": "[encoded data removed]",
      "text/latex": [
       "$$\\left [ - \\frac{\\pi}{2}, \\quad - \\frac{\\pi}{2}, \\quad - \\frac{\\pi}{2}, \\quad 0, \\quad 0, \\quad \\frac{\\pi}{2}\\right ]$$"
      ],
      "text/plain": [
       "⎡-π   -π   -π         π⎤\n",
       "⎢───, ───, ───, 0, 0, ─⎥\n",
       "⎣ 2    2    2         2⎦"
      ]
     },
     "execution_count": 185,
     "metadata": {},
     "output_type": "execute_result"
    }
   ],
   "source": [
    "alphas"
   ]
  },
  {
   "cell_type": "code",
   "execution_count": 186,
   "metadata": {},
   "outputs": [
    {
     "name": "stdout",
     "output_type": "stream",
     "text": [
      "1      0      d_1      0      -pi/2\n",
      "2      theta_2      0      0      -pi/2\n",
      "3      theta_3      1      0      -pi/2\n",
      "4      theta_4      0      1      0\n",
      "5      theta_5      0      1      0\n",
      "6      theta_6      1      0      pi/2\n"
     ]
    }
   ],
   "source": [
    "# just check as a table\n",
    "for i in range(6):\n",
    "    print(i+1, '    ',  thetas[i],\n",
    "          '    ',  d[i],\n",
    "         '    ',  r[i],\n",
    "         '    ',  alphas[i])"
   ]
  },
  {
   "cell_type": "markdown",
   "metadata": {},
   "source": [
    "## 2.Transformation matrix"
   ]
  },
  {
   "cell_type": "markdown",
   "metadata": {},
   "source": [
    "Quick look: https://en.wikipedia.org/wiki/Denavit%E2%80%93Hartenberg_parameters#Modified_DH_parameters\n",
    "\n",
    "Otherwise the equation are given in the pdf also"
   ]
  },
  {
   "cell_type": "code",
   "execution_count": 187,
   "metadata": {},
   "outputs": [],
   "source": [
    "# these variable must be changed accordingly\n",
    "theta_curr, alpha_pre, r_pre, d_curr = sympy.symbols(['theta_i', r'\\alpha_{i-1}', 'r_{i-1}', 'd_i'])"
   ]
  },
  {
   "cell_type": "code",
   "execution_count": 188,
   "metadata": {},
   "outputs": [],
   "source": [
    "T_expr = sympy.Matrix([ [sympy.cos(theta_curr), -sympy.sin(theta_curr), 0, r_pre],\n",
    "                        [sympy.sin(theta_curr)*sympy.cos(alpha_pre), sympy.cos(theta_curr)*sympy.cos(alpha_pre), -sympy.sin(alpha_pre), -d_curr*sympy.sin(alpha_pre)],\n",
    "                      [sympy.sin(theta_curr)*sympy.sin(alpha_pre), sympy.cos(theta_curr)*sympy.sin(alpha_pre), sympy.cos(alpha_pre), -d_curr*sympy.cos(alpha_pre)],\n",
    "                      [0, 0, 0, 1]])"
   ]
  },
  {
   "cell_type": "code",
   "execution_count": 189,
   "metadata": {},
   "outputs": [
    {
     "data": {
      "text/latex": [
       "$$\\left[\\begin{matrix}\\cos{\\left (\\theta_{i} \\right )} & - \\sin{\\left (\\theta_{i} \\right )} & 0 & r_{i-1}\\\\\\sin{\\left (\\theta_{i} \\right )} \\cos{\\left (\\alpha_{i-1} \\right )} & \\cos{\\left (\\alpha_{i-1} \\right )} \\cos{\\left (\\theta_{i} \\right )} & - \\sin{\\left (\\alpha_{i-1} \\right )} & - d_{i} \\sin{\\left (\\alpha_{i-1} \\right )}\\\\\\sin{\\left (\\alpha_{i-1} \\right )} \\sin{\\left (\\theta_{i} \\right )} & \\sin{\\left (\\alpha_{i-1} \\right )} \\cos{\\left (\\theta_{i} \\right )} & \\cos{\\left (\\alpha_{i-1} \\right )} & - d_{i} \\cos{\\left (\\alpha_{i-1} \\right )}\\\\0 & 0 & 0 & 1\\end{matrix}\\right]$$"
      ],
      "text/plain": [
       "⎡         cos(θᵢ)                   -sin(θᵢ)                   0              \n",
       "⎢                                                                             \n",
       "⎢sin(θᵢ)⋅cos(\\alpha_{i-1})  cos(\\alpha_{i-1})⋅cos(θᵢ)  -sin(\\alpha_{i-1})  -dᵢ\n",
       "⎢                                                                             \n",
       "⎢sin(\\alpha_{i-1})⋅sin(θᵢ)  sin(\\alpha_{i-1})⋅cos(θᵢ)  cos(\\alpha_{i-1})   -dᵢ\n",
       "⎢                                                                             \n",
       "⎣            0                          0                      0              \n",
       "\n",
       "    r_{i-1}       ⎤\n",
       "                  ⎥\n",
       "⋅sin(\\alpha_{i-1})⎥\n",
       "                  ⎥\n",
       "⋅cos(\\alpha_{i-1})⎥\n",
       "                  ⎥\n",
       "       1          ⎦"
      ]
     },
     "execution_count": 189,
     "metadata": {},
     "output_type": "execute_result"
    }
   ],
   "source": [
    "T_expr"
   ]
  },
  {
   "cell_type": "code",
   "execution_count": 190,
   "metadata": {},
   "outputs": [],
   "source": [
    "# initialize transformation variables\n",
    "T0_1, T1_2, T2_3, T3_4, T4_5, T5_6, T0_6 = sympy.symbols(['T^0_1', 'T^1_2', 'T^2_3', 'T^3_4', 'T^4_5', 'T^5_6', 'T^0_6'])"
   ]
  },
  {
   "cell_type": "code",
   "execution_count": 191,
   "metadata": {},
   "outputs": [],
   "source": [
    "# 0 ---> 1\n",
    "_0_1 = {\n",
    "    theta_curr:thetas[0],\n",
    "    alpha_pre:alphas[0],\n",
    "    r_pre:r[0],\n",
    "    d_curr:d[0]\n",
    "}\n",
    "T0_1 = T_expr.subs(_0_1).evalf()"
   ]
  },
  {
   "cell_type": "code",
   "execution_count": 192,
   "metadata": {},
   "outputs": [
    {
     "data": {
      "text/latex": [
       "$$\\left[\\begin{matrix}1.0 & 0 & 0 & 0\\\\0 & 0 & 1.0 & d_{1}\\\\0 & -1.0 & 0 & 0\\\\0 & 0 & 0 & 1.0\\end{matrix}\\right]$$"
      ],
      "text/plain": [
       "⎡1.0   0     0    0 ⎤\n",
       "⎢                   ⎥\n",
       "⎢ 0    0    1.0  d₁ ⎥\n",
       "⎢                   ⎥\n",
       "⎢ 0   -1.0   0    0 ⎥\n",
       "⎢                   ⎥\n",
       "⎣ 0    0     0   1.0⎦"
      ]
     },
     "execution_count": 192,
     "metadata": {},
     "output_type": "execute_result"
    }
   ],
   "source": [
    "T0_1"
   ]
  },
  {
   "cell_type": "code",
   "execution_count": 193,
   "metadata": {},
   "outputs": [],
   "source": [
    "# 1 ---> 2\n",
    "_1_2 = {\n",
    "    theta_curr:thetas[1],\n",
    "    alpha_pre:alphas[1],\n",
    "    r_pre:r[1],\n",
    "    d_curr:d[1]\n",
    "}\n",
    "T1_2 = T_expr.subs(_1_2).evalf()"
   ]
  },
  {
   "cell_type": "code",
   "execution_count": 194,
   "metadata": {},
   "outputs": [
    {
     "data": {
      "text/latex": [
       "$$\\left[\\begin{matrix}\\cos{\\left (\\theta_{2} \\right )} & - \\sin{\\left (\\theta_{2} \\right )} & 0 & 0\\\\0 & 0 & 1.0 & 0\\\\- \\sin{\\left (\\theta_{2} \\right )} & - \\cos{\\left (\\theta_{2} \\right )} & 0 & 0\\\\0 & 0 & 0 & 1.0\\end{matrix}\\right]$$"
      ],
      "text/plain": [
       "⎡cos(θ₂)   -sin(θ₂)   0    0 ⎤\n",
       "⎢                            ⎥\n",
       "⎢   0         0      1.0   0 ⎥\n",
       "⎢                            ⎥\n",
       "⎢-sin(θ₂)  -cos(θ₂)   0    0 ⎥\n",
       "⎢                            ⎥\n",
       "⎣   0         0       0   1.0⎦"
      ]
     },
     "execution_count": 194,
     "metadata": {},
     "output_type": "execute_result"
    }
   ],
   "source": [
    "T1_2"
   ]
  },
  {
   "cell_type": "code",
   "execution_count": 195,
   "metadata": {},
   "outputs": [],
   "source": [
    "# 2 ---> 3\n",
    "_2_3 = {\n",
    "    theta_curr:thetas[2],\n",
    "    alpha_pre:alphas[2],\n",
    "    r_pre:r[2],\n",
    "    d_curr:d[2]\n",
    "}\n",
    "T2_3 = T_expr.subs(_2_3).evalf()"
   ]
  },
  {
   "cell_type": "code",
   "execution_count": 196,
   "metadata": {},
   "outputs": [
    {
     "data": {
      "text/latex": [
       "$$\\left[\\begin{matrix}\\cos{\\left (\\theta_{3} \\right )} & - \\sin{\\left (\\theta_{3} \\right )} & 0 & 0\\\\0 & 0 & 1.0 & 1.0\\\\- \\sin{\\left (\\theta_{3} \\right )} & - \\cos{\\left (\\theta_{3} \\right )} & 0 & 0\\\\0 & 0 & 0 & 1.0\\end{matrix}\\right]$$"
      ],
      "text/plain": [
       "⎡cos(θ₃)   -sin(θ₃)   0    0 ⎤\n",
       "⎢                            ⎥\n",
       "⎢   0         0      1.0  1.0⎥\n",
       "⎢                            ⎥\n",
       "⎢-sin(θ₃)  -cos(θ₃)   0    0 ⎥\n",
       "⎢                            ⎥\n",
       "⎣   0         0       0   1.0⎦"
      ]
     },
     "execution_count": 196,
     "metadata": {},
     "output_type": "execute_result"
    }
   ],
   "source": [
    "T2_3"
   ]
  },
  {
   "cell_type": "code",
   "execution_count": 197,
   "metadata": {},
   "outputs": [],
   "source": [
    "# 3 ---> 4\n",
    "_3_4 = {\n",
    "    theta_curr:thetas[3],\n",
    "    alpha_pre:alphas[3],\n",
    "    r_pre:r[3],\n",
    "    d_curr:d[3]\n",
    "}\n",
    "T3_4 = T_expr.subs(_3_4).evalf()"
   ]
  },
  {
   "cell_type": "code",
   "execution_count": 198,
   "metadata": {},
   "outputs": [
    {
     "data": {
      "text/latex": [
       "$$\\left[\\begin{matrix}\\cos{\\left (\\theta_{4} \\right )} & - \\sin{\\left (\\theta_{4} \\right )} & 0 & 1.0\\\\\\sin{\\left (\\theta_{4} \\right )} & \\cos{\\left (\\theta_{4} \\right )} & 0 & 0\\\\0 & 0 & 1.0 & 0\\\\0 & 0 & 0 & 1.0\\end{matrix}\\right]$$"
      ],
      "text/plain": [
       "⎡cos(θ₄)  -sin(θ₄)   0   1.0⎤\n",
       "⎢                           ⎥\n",
       "⎢sin(θ₄)  cos(θ₄)    0    0 ⎥\n",
       "⎢                           ⎥\n",
       "⎢   0        0      1.0   0 ⎥\n",
       "⎢                           ⎥\n",
       "⎣   0        0       0   1.0⎦"
      ]
     },
     "execution_count": 198,
     "metadata": {},
     "output_type": "execute_result"
    }
   ],
   "source": [
    "T3_4"
   ]
  },
  {
   "cell_type": "code",
   "execution_count": 199,
   "metadata": {},
   "outputs": [],
   "source": [
    "# 4 ---> 5\n",
    "_4_5 = {\n",
    "    theta_curr:thetas[4],\n",
    "    alpha_pre:alphas[4],\n",
    "    r_pre:r[4],\n",
    "    d_curr:d[4]\n",
    "}\n",
    "T4_5 = T_expr.subs(_4_5).evalf()"
   ]
  },
  {
   "cell_type": "code",
   "execution_count": 200,
   "metadata": {},
   "outputs": [
    {
     "data": {
      "text/latex": [
       "$$\\left[\\begin{matrix}\\cos{\\left (\\theta_{5} \\right )} & - \\sin{\\left (\\theta_{5} \\right )} & 0 & 1.0\\\\\\sin{\\left (\\theta_{5} \\right )} & \\cos{\\left (\\theta_{5} \\right )} & 0 & 0\\\\0 & 0 & 1.0 & 0\\\\0 & 0 & 0 & 1.0\\end{matrix}\\right]$$"
      ],
      "text/plain": [
       "⎡cos(θ₅)  -sin(θ₅)   0   1.0⎤\n",
       "⎢                           ⎥\n",
       "⎢sin(θ₅)  cos(θ₅)    0    0 ⎥\n",
       "⎢                           ⎥\n",
       "⎢   0        0      1.0   0 ⎥\n",
       "⎢                           ⎥\n",
       "⎣   0        0       0   1.0⎦"
      ]
     },
     "execution_count": 200,
     "metadata": {},
     "output_type": "execute_result"
    }
   ],
   "source": [
    "T4_5"
   ]
  },
  {
   "cell_type": "code",
   "execution_count": 201,
   "metadata": {},
   "outputs": [],
   "source": [
    "# 5 ---> 6\n",
    "_5_6 = {\n",
    "    theta_curr:thetas[5],\n",
    "    alpha_pre:alphas[5],\n",
    "    r_pre:r[5],\n",
    "    d_curr:d[5]\n",
    "}\n",
    "T5_6 = T_expr.subs(_5_6).evalf()"
   ]
  },
  {
   "cell_type": "code",
   "execution_count": 202,
   "metadata": {},
   "outputs": [
    {
     "data": {
      "text/latex": [
       "$$\\left[\\begin{matrix}\\cos{\\left (\\theta_{6} \\right )} & - \\sin{\\left (\\theta_{6} \\right )} & 0 & 0\\\\0 & 0 & -1.0 & -1.0\\\\\\sin{\\left (\\theta_{6} \\right )} & \\cos{\\left (\\theta_{6} \\right )} & 0 & 0\\\\0 & 0 & 0 & 1.0\\end{matrix}\\right]$$"
      ],
      "text/plain": [
       "⎡cos(θ₆)  -sin(θ₆)   0     0  ⎤\n",
       "⎢                             ⎥\n",
       "⎢   0        0      -1.0  -1.0⎥\n",
       "⎢                             ⎥\n",
       "⎢sin(θ₆)  cos(θ₆)    0     0  ⎥\n",
       "⎢                             ⎥\n",
       "⎣   0        0       0    1.0 ⎦"
      ]
     },
     "execution_count": 202,
     "metadata": {},
     "output_type": "execute_result"
    }
   ],
   "source": [
    "T5_6"
   ]
  },
  {
   "cell_type": "markdown",
   "metadata": {},
   "source": [
    "Equation T0_6 results to 9 equations, however if we can manage to represent in terms of quaternions it's going to be 9 equations (x, y, z, q1, q2, q3, q4)\n",
    "Hence,\n",
    "1. Does visualization tool work with quaternions?\n",
    "2. Can we convert it easily? Any books/search?\n",
    "\n",
    "If above answers are yes, then we need to conver it to quaternion, **also quaternion doesn't have a problem of gimbal lock:** https://en.wikipedia.org/wiki/Gimbal_lock"
   ]
  },
  {
   "cell_type": "markdown",
   "metadata": {},
   "source": [
    "# 3. Forward Kinematics"
   ]
  },
  {
   "cell_type": "markdown",
   "metadata": {},
   "source": [
    "The forward kinematics is obtained as following:\n",
    "\n",
    "\\begin{align}\n",
    "T^6_0 = [R_{3x3}; p_{3x1}]\n",
    "\\end{align}\n",
    "\n",
    "where $R_{3x3}$ is an orientation and $p_{3x1}$ is end-effector cartesian position respect to base"
   ]
  },
  {
   "cell_type": "code",
   "execution_count": 203,
   "metadata": {},
   "outputs": [],
   "source": [
    "# complete base to end-effector transformation\n",
    "T0_6 = T0_1*T1_2*T2_3*T3_4*T4_5*T5_6\n",
    "T0_6 = sympy.simplify(T0_6)"
   ]
  },
  {
   "cell_type": "code",
   "execution_count": 204,
   "metadata": {},
   "outputs": [
    {
     "data": {
      "text/latex": [
       "$$\\left[\\begin{matrix}- 1.0 \\sin{\\left (\\theta_{2} \\right )} \\sin{\\left (\\theta_{6} \\right )} + 1.0 \\cos{\\left (\\theta_{2} \\right )} \\cos{\\left (\\theta_{6} \\right )} \\cos{\\left (\\theta_{3} + \\theta_{4} + \\theta_{5} \\right )} & - 1.0 \\sin{\\left (\\theta_{2} \\right )} \\cos{\\left (\\theta_{6} \\right )} - 1.0 \\sin{\\left (\\theta_{6} \\right )} \\cos{\\left (\\theta_{2} \\right )} \\cos{\\left (\\theta_{3} + \\theta_{4} + \\theta_{5} \\right )} & 1.0 \\sin{\\left (\\theta_{3} + \\theta_{4} + \\theta_{5} \\right )} \\cos{\\left (\\theta_{2} \\right )} & - 1.0 \\sin{\\left (\\theta_{2} \\right )} + 1.0 \\sin{\\left (\\theta_{3} + \\theta_{4} + \\theta_{5} \\right )} \\cos{\\left (\\theta_{2} \\right )} + 1.0 \\cos{\\left (\\theta_{2} \\right )} \\cos{\\left (\\theta_{3} \\right )} + 1.0 \\cos{\\left (\\theta_{2} \\right )} \\cos{\\left (\\theta_{3} + \\theta_{4} \\right )}\\\\- 1.0 \\sin{\\left (\\theta_{2} \\right )} \\cos{\\left (\\theta_{6} \\right )} \\cos{\\left (\\theta_{3} + \\theta_{4} + \\theta_{5} \\right )} - 1.0 \\sin{\\left (\\theta_{6} \\right )} \\cos{\\left (\\theta_{2} \\right )} & 1.0 \\sin{\\left (\\theta_{2} \\right )} \\sin{\\left (\\theta_{6} \\right )} \\cos{\\left (\\theta_{3} + \\theta_{4} + \\theta_{5} \\right )} - 1.0 \\cos{\\left (\\theta_{2} \\right )} \\cos{\\left (\\theta_{6} \\right )} & - 1.0 \\sin{\\left (\\theta_{2} \\right )} \\sin{\\left (\\theta_{3} + \\theta_{4} + \\theta_{5} \\right )} & 1.0 d_{1} - 1.0 \\sin{\\left (\\theta_{2} \\right )} \\sin{\\left (\\theta_{3} + \\theta_{4} + \\theta_{5} \\right )} - 1.0 \\sin{\\left (\\theta_{2} \\right )} \\cos{\\left (\\theta_{3} \\right )} - 1.0 \\sin{\\left (\\theta_{2} \\right )} \\cos{\\left (\\theta_{3} + \\theta_{4} \\right )} - 1.0 \\cos{\\left (\\theta_{2} \\right )}\\\\1.0 \\sin{\\left (\\theta_{3} + \\theta_{4} + \\theta_{5} \\right )} \\cos{\\left (\\theta_{6} \\right )} & - 1.0 \\sin{\\left (\\theta_{6} \\right )} \\sin{\\left (\\theta_{3} + \\theta_{4} + \\theta_{5} \\right )} & - 1.0 \\cos{\\left (\\theta_{3} + \\theta_{4} + \\theta_{5} \\right )} & 1.0 \\sin{\\left (\\theta_{3} \\right )} + 1.0 \\sin{\\left (\\theta_{3} + \\theta_{4} \\right )} - 1.0 \\cos{\\left (\\theta_{3} + \\theta_{4} + \\theta_{5} \\right )}\\\\0 & 0 & 0 & 1.0\\end{matrix}\\right]$$"
      ],
      "text/plain": [
       "⎡-1.0⋅sin(θ₂)⋅sin(θ₆) + 1.0⋅cos(θ₂)⋅cos(θ₆)⋅cos(θ₃ + θ₄ + θ₅)  -1.0⋅sin(θ₂)⋅co\n",
       "⎢                                                                             \n",
       "⎢-1.0⋅sin(θ₂)⋅cos(θ₆)⋅cos(θ₃ + θ₄ + θ₅) - 1.0⋅sin(θ₆)⋅cos(θ₂)  1.0⋅sin(θ₂)⋅sin\n",
       "⎢                                                                             \n",
       "⎢               1.0⋅sin(θ₃ + θ₄ + θ₅)⋅cos(θ₆)                                 \n",
       "⎢                                                                             \n",
       "⎣                             0                                               \n",
       "\n",
       "s(θ₆) - 1.0⋅sin(θ₆)⋅cos(θ₂)⋅cos(θ₃ + θ₄ + θ₅)  1.0⋅sin(θ₃ + θ₄ + θ₅)⋅cos(θ₂)  \n",
       "                                                                              \n",
       "(θ₆)⋅cos(θ₃ + θ₄ + θ₅) - 1.0⋅cos(θ₂)⋅cos(θ₆)   -1.0⋅sin(θ₂)⋅sin(θ₃ + θ₄ + θ₅) \n",
       "                                                                              \n",
       "-1.0⋅sin(θ₆)⋅sin(θ₃ + θ₄ + θ₅)                     -1.0⋅cos(θ₃ + θ₄ + θ₅)     \n",
       "                                                                              \n",
       "              0                                              0                \n",
       "\n",
       "     -1.0⋅sin(θ₂) + 1.0⋅sin(θ₃ + θ₄ + θ₅)⋅cos(θ₂) + 1.0⋅cos(θ₂)⋅cos(θ₃) + 1.0⋅\n",
       "                                                                              \n",
       " 1.0⋅d₁ - 1.0⋅sin(θ₂)⋅sin(θ₃ + θ₄ + θ₅) - 1.0⋅sin(θ₂)⋅cos(θ₃) - 1.0⋅sin(θ₂)⋅co\n",
       "                                                                              \n",
       "                        1.0⋅sin(θ₃) + 1.0⋅sin(θ₃ + θ₄) - 1.0⋅cos(θ₃ + θ₄ + θ₅)\n",
       "                                                                              \n",
       "                                                  1.0                         \n",
       "\n",
       "cos(θ₂)⋅cos(θ₃ + θ₄)    ⎤\n",
       "                        ⎥\n",
       "s(θ₃ + θ₄) - 1.0⋅cos(θ₂)⎥\n",
       "                        ⎥\n",
       "                        ⎥\n",
       "                        ⎥\n",
       "                        ⎦"
      ]
     },
     "execution_count": 204,
     "metadata": {},
     "output_type": "execute_result"
    }
   ],
   "source": [
    "T0_6"
   ]
  },
  {
   "cell_type": "markdown",
   "metadata": {},
   "source": [
    "# 4. Jacobian"
   ]
  },
  {
   "cell_type": "raw",
   "metadata": {},
   "source": [
    "% rotation matrixes  \n",
    "R01 = H1(1:3,1:3); \n",
    "R12 = H2(1:3,1:3);   \n",
    "R23 = H3(1:3,1:3);  \n",
    "R34 = H4(1:3,1:3);   \n",
    "R45 = H5(1:3,1:3); \n",
    "R56 = H6(1:3,1:3);\n",
    "\n",
    "\n",
    "% position vectors p\n",
    "p6 = T06(1:3,4);\n",
    "\n",
    "% Geometric Jacobain \n",
    "% directions of the joint axes z(i-1)\n",
    "k = [0 0 1]';\n",
    "z0 = k;\n",
    "z1 = R01*k;\n",
    "z2 = R01*R12*k;\n",
    "z3 = R01*R12*R23*k;\n",
    "z4 = R01*R12*R23*R34*k;\n",
    "z5 = R01*R12*R23*R34*R45*k;\n",
    "  \n",
    "J = simplify([diff(p6,t1) diff(p6,t2) diff(p6,t3) diff(p6,t4) diff(p6,t5) diff(p6,t6);...\n",
    "      z0 z1 z2 z3 z4 z5])"
   ]
  },
  {
   "cell_type": "markdown",
   "metadata": {},
   "source": [
    "The following code calculates geometrical Jacobian"
   ]
  },
  {
   "cell_type": "code",
   "execution_count": 205,
   "metadata": {},
   "outputs": [],
   "source": [
    "# select rotations\n",
    "R0_1 = T0_1[0:3,0:3]\n",
    "R1_2 = T1_2[0:3,0:3]   \n",
    "R2_3 = T2_3[0:3,0:3]  \n",
    "R3_4 = T3_4[0:3,0:3]   \n",
    "R4_5 = T4_5[0:3,0:3] \n",
    "R5_6 = T5_6[0:3,0:3]\n",
    "\n",
    "# end effector position\n",
    "p6 = T0_6[0:3,3]"
   ]
  },
  {
   "cell_type": "code",
   "execution_count": 206,
   "metadata": {},
   "outputs": [
    {
     "data": {
      "text/latex": [
       "$$\\left[\\begin{matrix}- 1.0 \\sin{\\left (\\theta_{2} \\right )} + 1.0 \\sin{\\left (\\theta_{3} + \\theta_{4} + \\theta_{5} \\right )} \\cos{\\left (\\theta_{2} \\right )} + 1.0 \\cos{\\left (\\theta_{2} \\right )} \\cos{\\left (\\theta_{3} \\right )} + 1.0 \\cos{\\left (\\theta_{2} \\right )} \\cos{\\left (\\theta_{3} + \\theta_{4} \\right )}\\\\1.0 d_{1} - 1.0 \\sin{\\left (\\theta_{2} \\right )} \\sin{\\left (\\theta_{3} + \\theta_{4} + \\theta_{5} \\right )} - 1.0 \\sin{\\left (\\theta_{2} \\right )} \\cos{\\left (\\theta_{3} \\right )} - 1.0 \\sin{\\left (\\theta_{2} \\right )} \\cos{\\left (\\theta_{3} + \\theta_{4} \\right )} - 1.0 \\cos{\\left (\\theta_{2} \\right )}\\\\1.0 \\sin{\\left (\\theta_{3} \\right )} + 1.0 \\sin{\\left (\\theta_{3} + \\theta_{4} \\right )} - 1.0 \\cos{\\left (\\theta_{3} + \\theta_{4} + \\theta_{5} \\right )}\\end{matrix}\\right]$$"
      ],
      "text/plain": [
       "⎡    -1.0⋅sin(θ₂) + 1.0⋅sin(θ₃ + θ₄ + θ₅)⋅cos(θ₂) + 1.0⋅cos(θ₂)⋅cos(θ₃) + 1.0⋅\n",
       "⎢                                                                             \n",
       "⎢1.0⋅d₁ - 1.0⋅sin(θ₂)⋅sin(θ₃ + θ₄ + θ₅) - 1.0⋅sin(θ₂)⋅cos(θ₃) - 1.0⋅sin(θ₂)⋅co\n",
       "⎢                                                                             \n",
       "⎣                       1.0⋅sin(θ₃) + 1.0⋅sin(θ₃ + θ₄) - 1.0⋅cos(θ₃ + θ₄ + θ₅)\n",
       "\n",
       "cos(θ₂)⋅cos(θ₃ + θ₄)    ⎤\n",
       "                        ⎥\n",
       "s(θ₃ + θ₄) - 1.0⋅cos(θ₂)⎥\n",
       "                        ⎥\n",
       "                        ⎦"
      ]
     },
     "execution_count": 206,
     "metadata": {},
     "output_type": "execute_result"
    }
   ],
   "source": [
    "p6"
   ]
  },
  {
   "cell_type": "code",
   "execution_count": 207,
   "metadata": {},
   "outputs": [],
   "source": [
    "# direction of z(i-1) axis\n",
    "k = sympy.Matrix([0, 0, 1])\n",
    "z0 = k;\n",
    "z1 = R0_1*k;\n",
    "z2 = R0_1*R1_2*k;\n",
    "z3 = R0_1*R1_2*R2_3*k;\n",
    "z4 = R0_1*R1_2*R2_3*R3_4*k;\n",
    "z5 = R0_1*R1_2*R2_3*R3_4*R4_5*k;"
   ]
  },
  {
   "cell_type": "code",
   "execution_count": 211,
   "metadata": {},
   "outputs": [],
   "source": [
    "# define Jacobian\n",
    "J = sympy.zeros(6,6)\n",
    "J[0:3,0] = sympy.diff(p6,d_1)\n",
    "J[0:3,1] = sympy.diff(p6,theta_2)\n",
    "J[0:3,2] = sympy.diff(p6,theta_3)\n",
    "J[0:3,3] = sympy.diff(p6,theta_4)\n",
    "J[0:3,4] = sympy.diff(p6,theta_5)\n",
    "J[0:3,5] = sympy.diff(p6,theta_6)\n",
    "\n",
    "J[3:6,0] = sympy.diff(z0)\n",
    "J[3:6,1] = sympy.diff(z1)\n",
    "J[3:6,2] = sympy.diff(z2)\n",
    "J[3:6,3] = sympy.diff(z3)\n",
    "J[3:6,4] = sympy.diff(z4)\n",
    "J[3:6,5] = sympy.diff(z5)\n",
    "\n",
    "J = sympy.simplify(J)"
   ]
  },
  {
   "cell_type": "code",
   "execution_count": 212,
   "metadata": {},
   "outputs": [
    {
     "data": {
      "text/latex": [
       "$$\\left[\\begin{matrix}0 & - 1.0 \\sin{\\left (\\theta_{2} \\right )} \\sin{\\left (\\theta_{3} + \\theta_{4} + \\theta_{5} \\right )} - 1.0 \\sin{\\left (\\theta_{2} \\right )} \\cos{\\left (\\theta_{3} \\right )} - 1.0 \\sin{\\left (\\theta_{2} \\right )} \\cos{\\left (\\theta_{3} + \\theta_{4} \\right )} - 1.0 \\cos{\\left (\\theta_{2} \\right )} & 1.0 \\left(- \\sin{\\left (\\theta_{3} \\right )} - \\sin{\\left (\\theta_{3} + \\theta_{4} \\right )} + \\cos{\\left (\\theta_{3} + \\theta_{4} + \\theta_{5} \\right )}\\right) \\cos{\\left (\\theta_{2} \\right )} & 1.0 \\left(- \\sin{\\left (\\theta_{3} + \\theta_{4} \\right )} + \\cos{\\left (\\theta_{3} + \\theta_{4} + \\theta_{5} \\right )}\\right) \\cos{\\left (\\theta_{2} \\right )} & 1.0 \\cos{\\left (\\theta_{2} \\right )} \\cos{\\left (\\theta_{3} + \\theta_{4} + \\theta_{5} \\right )} & 0\\\\1.0 & 1.0 \\sin{\\left (\\theta_{2} \\right )} - 1.0 \\sin{\\left (\\theta_{3} + \\theta_{4} + \\theta_{5} \\right )} \\cos{\\left (\\theta_{2} \\right )} - 1.0 \\cos{\\left (\\theta_{2} \\right )} \\cos{\\left (\\theta_{3} \\right )} - 1.0 \\cos{\\left (\\theta_{2} \\right )} \\cos{\\left (\\theta_{3} + \\theta_{4} \\right )} & 1.0 \\left(\\sin{\\left (\\theta_{3} \\right )} + \\sin{\\left (\\theta_{3} + \\theta_{4} \\right )} - \\cos{\\left (\\theta_{3} + \\theta_{4} + \\theta_{5} \\right )}\\right) \\sin{\\left (\\theta_{2} \\right )} & 1.0 \\left(\\sin{\\left (\\theta_{3} + \\theta_{4} \\right )} - \\cos{\\left (\\theta_{3} + \\theta_{4} + \\theta_{5} \\right )}\\right) \\sin{\\left (\\theta_{2} \\right )} & - 1.0 \\sin{\\left (\\theta_{2} \\right )} \\cos{\\left (\\theta_{3} + \\theta_{4} + \\theta_{5} \\right )} & 0\\\\0 & 0 & 1.0 \\sin{\\left (\\theta_{3} + \\theta_{4} + \\theta_{5} \\right )} + 1.0 \\cos{\\left (\\theta_{3} \\right )} + 1.0 \\cos{\\left (\\theta_{3} + \\theta_{4} \\right )} & 1.0 \\sin{\\left (\\theta_{3} + \\theta_{4} + \\theta_{5} \\right )} + 1.0 \\cos{\\left (\\theta_{3} + \\theta_{4} \\right )} & 1.0 \\sin{\\left (\\theta_{3} + \\theta_{4} + \\theta_{5} \\right )} & 0\\\\0 & 0 & 0 & - 1.0 \\cos{\\left (\\theta_{2} \\right )} & - 1.0 \\cos{\\left (\\theta_{2} \\right )} & - 1.0 \\cos{\\left (\\theta_{2} \\right )}\\\\0 & 0 & 0 & 1.0 \\sin{\\left (\\theta_{2} \\right )} & 1.0 \\sin{\\left (\\theta_{2} \\right )} & 1.0 \\sin{\\left (\\theta_{2} \\right )}\\\\0 & 0 & 0 & 0 & 0 & 0\\end{matrix}\\right]$$"
      ],
      "text/plain": [
       "⎡ 0   -1.0⋅sin(θ₂)⋅sin(θ₃ + θ₄ + θ₅) - 1.0⋅sin(θ₂)⋅cos(θ₃) - 1.0⋅sin(θ₂)⋅cos(θ\n",
       "⎢                                                                             \n",
       "⎢1.0  1.0⋅sin(θ₂) - 1.0⋅sin(θ₃ + θ₄ + θ₅)⋅cos(θ₂) - 1.0⋅cos(θ₂)⋅cos(θ₃) - 1.0⋅\n",
       "⎢                                                                             \n",
       "⎢ 0                                                 0                         \n",
       "⎢                                                                             \n",
       "⎢ 0                                                 0                         \n",
       "⎢                                                                             \n",
       "⎢ 0                                                 0                         \n",
       "⎢                                                                             \n",
       "⎣ 0                                                 0                         \n",
       "\n",
       "₃ + θ₄) - 1.0⋅cos(θ₂)  1.0⋅(-sin(θ₃) - sin(θ₃ + θ₄) + cos(θ₃ + θ₄ + θ₅))⋅cos(θ\n",
       "                                                                              \n",
       "cos(θ₂)⋅cos(θ₃ + θ₄)   1.0⋅(sin(θ₃) + sin(θ₃ + θ₄) - cos(θ₃ + θ₄ + θ₅))⋅sin(θ₂\n",
       "                                                                              \n",
       "                        1.0⋅sin(θ₃ + θ₄ + θ₅) + 1.0⋅cos(θ₃) + 1.0⋅cos(θ₃ + θ₄)\n",
       "                                                                              \n",
       "                                                   0                          \n",
       "                                                                              \n",
       "                                                   0                          \n",
       "                                                                              \n",
       "                                                   0                          \n",
       "\n",
       "₂)  1.0⋅(-sin(θ₃ + θ₄) + cos(θ₃ + θ₄ + θ₅))⋅cos(θ₂)  1.0⋅cos(θ₂)⋅cos(θ₃ + θ₄ +\n",
       "                                                                              \n",
       ")   1.0⋅(sin(θ₃ + θ₄) - cos(θ₃ + θ₄ + θ₅))⋅sin(θ₂)   -1.0⋅sin(θ₂)⋅cos(θ₃ + θ₄ \n",
       "                                                                              \n",
       "       1.0⋅sin(θ₃ + θ₄ + θ₅) + 1.0⋅cos(θ₃ + θ₄)          1.0⋅sin(θ₃ + θ₄ + θ₅)\n",
       "                                                                              \n",
       "                     -1.0⋅cos(θ₂)                             -1.0⋅cos(θ₂)    \n",
       "                                                                              \n",
       "                      1.0⋅sin(θ₂)                             1.0⋅sin(θ₂)     \n",
       "                                                                              \n",
       "                           0                                       0          \n",
       "\n",
       " θ₅)        0      ⎤\n",
       "                   ⎥\n",
       "+ θ₅)       0      ⎥\n",
       "                   ⎥\n",
       "            0      ⎥\n",
       "                   ⎥\n",
       "       -1.0⋅cos(θ₂)⎥\n",
       "                   ⎥\n",
       "       1.0⋅sin(θ₂) ⎥\n",
       "                   ⎥\n",
       "            0      ⎦"
      ]
     },
     "execution_count": 212,
     "metadata": {},
     "output_type": "execute_result"
    }
   ],
   "source": [
    "J"
   ]
  },
  {
   "cell_type": "markdown",
   "metadata": {},
   "source": [
    "**SOMEHOW ABOVE JACOBIAN SAYS THAT THE ROBOT IS IN ALWAYS SINGULAR POSE???**"
   ]
  },
  {
   "cell_type": "code",
   "execution_count": null,
   "metadata": {},
   "outputs": [],
   "source": []
  }
 ],
 "metadata": {
  "kernelspec": {
   "display_name": "Python 3",
   "language": "python",
   "name": "python3"
  },
  "language_info": {
   "codemirror_mode": {
    "name": "ipython",
    "version": 3
   },
   "file_extension": ".py",
   "mimetype": "text/x-python",
   "name": "python",
   "nbconvert_exporter": "python",
   "pygments_lexer": "ipython3",
   "version": "3.6.5"
  }
 },
 "nbformat": 4,
 "nbformat_minor": 2
}
